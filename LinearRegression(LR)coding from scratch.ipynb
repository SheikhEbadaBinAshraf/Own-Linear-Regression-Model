{
 "cells": [
  {
   "cell_type": "code",
   "execution_count": 1,
   "id": "70ea858a",
   "metadata": {},
   "outputs": [],
   "source": [
    "import pandas as pd\n",
    "import numpy as np\n",
    "import matplotlib.pyplot as plt"
   ]
  },
  {
   "cell_type": "code",
   "execution_count": 2,
   "id": "d3d4f2c4",
   "metadata": {},
   "outputs": [],
   "source": [
    "df = pd.read_csv(\"placement.csv\")"
   ]
  },
  {
   "cell_type": "code",
   "execution_count": 3,
   "id": "84807ebb",
   "metadata": {},
   "outputs": [],
   "source": [
    "x = df.iloc[:,0:1] \n",
    "y = df.iloc[:,-1]"
   ]
  },
  {
   "cell_type": "code",
   "execution_count": 4,
   "id": "5ee99a4a",
   "metadata": {},
   "outputs": [],
   "source": [
    "from sklearn.model_selection import train_test_split"
   ]
  },
  {
   "cell_type": "code",
   "execution_count": 5,
   "id": "69e754a7",
   "metadata": {},
   "outputs": [],
   "source": [
    "X_train, X_test, y_train, y_test = train_test_split(x,y, test_size = 0.2, random_state=2)"
   ]
  },
  {
   "attachments": {
    "slope%20and%20Intercept.jpg": {
     "image/jpeg": "[encoded data removed]"
    }
   },
   "cell_type": "markdown",
   "id": "94898093",
   "metadata": {},
   "source": [
    "![slope%20and%20Intercept.jpg](attachment:slope%20and%20Intercept.jpg)"
   ]
  },
  {
   "cell_type": "code",
   "execution_count": 6,
   "id": "b27da12e",
   "metadata": {},
   "outputs": [
    {
     "data": {
      "text/plain": [
       "160"
      ]
     },
     "execution_count": 6,
     "metadata": {},
     "output_type": "execute_result"
    }
   ],
   "source": [
    "X_train.shape[0]"
   ]
  },
  {
   "cell_type": "code",
   "execution_count": 7,
   "id": "1f7b35b9",
   "metadata": {},
   "outputs": [
    {
     "data": {
      "text/plain": [
       "cgpa    7.14\n",
       "Name: 137, dtype: float64"
      ]
     },
     "execution_count": 7,
     "metadata": {},
     "output_type": "execute_result"
    }
   ],
   "source": [
    "X_train.iloc[0] # xi---->First value of CGPA"
   ]
  },
  {
   "cell_type": "code",
   "execution_count": 8,
   "id": "13d08a03",
   "metadata": {},
   "outputs": [
    {
     "data": {
      "text/plain": [
       "cgpa    0.150062\n",
       "dtype: float64"
      ]
     },
     "execution_count": 8,
     "metadata": {},
     "output_type": "execute_result"
    }
   ],
   "source": [
    "X_train.iloc[0] - X_train.mean() #(xi - x̄)---> first value of CGPA - by mean of CGPA Column"
   ]
  },
  {
   "attachments": {
    "slope%20and%20Intercept.jpg": {
     "image/jpeg": "[encoded data removed]"
    }
   },
   "cell_type": "markdown",
   "id": "5d4ae96a",
   "metadata": {},
   "source": [
    "![slope%20and%20Intercept.jpg](attachment:slope%20and%20Intercept.jpg)"
   ]
  },
  {
   "cell_type": "code",
   "execution_count": 10,
   "id": "2bc39fe5",
   "metadata": {},
   "outputs": [],
   "source": [
    "def fit(X_train, y_train):\n",
    "   \n",
    "    #For Slope (m)\n",
    "    \n",
    "    numerator = 0\n",
    "    denomirator = 0\n",
    "    \n",
    "    for i in range(X_train.shape[0]):#160 values so loop has to be run 160 times\n",
    "        numerator += (X_train.iloc[i] - X_train.mean()) * (y_train.iloc[i] - y_train.mean()) # ∑(xi - x̄)(yi -  ȳ)\n",
    "        denomirator += (X_train.iloc[i] - X_train.mean()) * (X_train.iloc[i] - X_train.mean()) #∑(xi - x̄)*(xi - x̄)\n",
    "        \n",
    "    m = numerator/denomirator    \n",
    "    \n",
    "    #For Intercept (b)\n",
    "    \n",
    "    b = y_train.mean() - (m * X_train.mean())\n",
    "\n",
    "    return m.values, b.values"
   ]
  },
  {
   "cell_type": "code",
   "execution_count": 11,
   "id": "a5b0ec9c",
   "metadata": {},
   "outputs": [
    {
     "data": {
      "text/plain": [
       "(array([0.55795197]), array([-0.89611192]))"
      ]
     },
     "execution_count": 11,
     "metadata": {},
     "output_type": "execute_result"
    }
   ],
   "source": [
    "fit(X_train, y_train)"
   ]
  },
  {
   "cell_type": "code",
   "execution_count": 12,
   "id": "0085fa36",
   "metadata": {},
   "outputs": [],
   "source": [
    "#For Prediction\n",
    "def predict(X_train):\n",
    "        \n",
    "    #y = mx + b---> Line formula\n",
    "    m, b = fit(X_train, y_train)\n",
    "    y = [(m * X_train.iloc[i] + b).values for i in range(X_train.shape[0])]\n",
    "\n",
    "\n",
    "    return y"
   ]
  },
  {
   "cell_type": "code",
   "execution_count": 13,
   "id": "bdee6164",
   "metadata": {},
   "outputs": [
    {
     "data": {
      "text/plain": [
       "[array([3.08766517]),\n",
       " array([4.0863992]),\n",
       " array([2.12798777]),\n",
       " array([1.94944314]),\n",
       " array([3.43917491]),\n",
       " array([2.87564342]),\n",
       " array([2.94817717]),\n",
       " array([2.83100726]),\n",
       " array([3.51728819]),\n",
       " array([3.50612915]),\n",
       " array([3.96364977]),\n",
       " array([3.53960627]),\n",
       " array([2.79195062]),\n",
       " array([2.59666743]),\n",
       " array([2.74731446]),\n",
       " array([2.68593975]),\n",
       " array([1.95502266]),\n",
       " array([2.5018156]),\n",
       " array([2.97049525]),\n",
       " array([3.03186997]),\n",
       " array([2.4181228]),\n",
       " array([2.47949752]),\n",
       " array([2.35674808]),\n",
       " array([2.42370232]),\n",
       " array([4.29842095]),\n",
       " array([2.21726009]),\n",
       " array([3.50054963]),\n",
       " array([2.52413367]),\n",
       " array([3.43359539]),\n",
       " array([1.80995515]),\n",
       " array([2.55761079]),\n",
       " array([3.90227505]),\n",
       " array([2.49065656]),\n",
       " array([3.10998325]),\n",
       " array([1.96060218]),\n",
       " array([3.22715316]),\n",
       " array([3.70699186]),\n",
       " array([3.72373042]),\n",
       " array([3.08208565]),\n",
       " array([3.20483508]),\n",
       " array([2.26189625]),\n",
       " array([2.4460204]),\n",
       " array([3.57308338]),\n",
       " array([3.08766517]),\n",
       " array([2.64130359]),\n",
       " array([2.94817717]),\n",
       " array([2.12798777]),\n",
       " array([2.71383735]),\n",
       " array([3.39453875]),\n",
       " array([3.23273268]),\n",
       " array([3.16577844]),\n",
       " array([2.42370232]),\n",
       " array([3.22157364]),\n",
       " array([2.97049525]),\n",
       " array([4.11987632]),\n",
       " array([3.2104146]),\n",
       " array([3.05418805]),\n",
       " array([2.10566969]),\n",
       " array([3.322005]),\n",
       " array([3.6902533]),\n",
       " array([2.3623276]),\n",
       " array([2.88680246]),\n",
       " array([3.11556277]),\n",
       " array([3.16577844]),\n",
       " array([2.89238198]),\n",
       " array([2.51855416]),\n",
       " array([2.9258591]),\n",
       " array([3.67909426]),\n",
       " array([2.92027958]),\n",
       " array([3.21599412]),\n",
       " array([2.57434935]),\n",
       " array([2.79195062]),\n",
       " array([2.0219769]),\n",
       " array([3.12672181]),\n",
       " array([2.9258591]),\n",
       " array([2.55761079]),\n",
       " array([3.17693748]),\n",
       " array([2.54645175]),\n",
       " array([2.3902252]),\n",
       " array([3.61771954]),\n",
       " array([3.07092661]),\n",
       " array([1.48076348]),\n",
       " array([2.97607477]),\n",
       " array([2.44044088]),\n",
       " array([2.84774582]),\n",
       " array([3.19367604]),\n",
       " array([4.15893296]),\n",
       " array([2.50739512]),\n",
       " array([2.16146489]),\n",
       " array([2.50739512]),\n",
       " array([3.322005]),\n",
       " array([3.17135796]),\n",
       " array([2.3623276]),\n",
       " array([3.27736884]),\n",
       " array([3.3499026]),\n",
       " array([2.33443]),\n",
       " array([2.23399865]),\n",
       " array([3.19925556]),\n",
       " array([4.33747759]),\n",
       " array([3.51728819]),\n",
       " array([2.97607477]),\n",
       " array([3.53402675]),\n",
       " array([3.74046898]),\n",
       " array([2.98723381]),\n",
       " array([2.97049525]),\n",
       " array([3.07092661]),\n",
       " array([3.81300273]),\n",
       " array([3.66793522]),\n",
       " array([2.81984822]),\n",
       " array([3.81300273]),\n",
       " array([3.07650613]),\n",
       " array([2.61898551]),\n",
       " array([2.3623276]),\n",
       " array([2.99839285]),\n",
       " array([3.36106163]),\n",
       " array([2.25073721]),\n",
       " array([3.24947124]),\n",
       " array([4.05292208]),\n",
       " array([3.47823155]),\n",
       " array([2.3623276]),\n",
       " array([4.44906798]),\n",
       " array([3.7739461]),\n",
       " array([3.36106163]),\n",
       " array([2.62456503]),\n",
       " array([2.73057591]),\n",
       " array([3.62887858]),\n",
       " array([2.49065656]),\n",
       " array([1.74300091]),\n",
       " array([3.17693748]),\n",
       " array([2.73615542]),\n",
       " array([3.16577844]),\n",
       " array([2.96491573]),\n",
       " array([2.64688311]),\n",
       " array([3.91343409]),\n",
       " array([3.03744949]),\n",
       " array([4.27052335]),\n",
       " array([2.63572407]),\n",
       " array([2.57434935]),\n",
       " array([2.97607477]),\n",
       " array([1.9661817]),\n",
       " array([3.64003762]),\n",
       " array([2.39580472]),\n",
       " array([4.14777392]),\n",
       " array([2.48507704]),\n",
       " array([3.32758452]),\n",
       " array([3.62329906]),\n",
       " array([4.21472815]),\n",
       " array([2.3623276]),\n",
       " array([3.50612915]),\n",
       " array([2.80310966]),\n",
       " array([3.05976757]),\n",
       " array([2.18936249]),\n",
       " array([2.8700639]),\n",
       " array([3.35548212]),\n",
       " array([2.99281333]),\n",
       " array([3.37780019]),\n",
       " array([2.52971319]),\n",
       " array([3.44475443]),\n",
       " array([3.14903989]),\n",
       " array([3.93017265])]"
      ]
     },
     "execution_count": 13,
     "metadata": {},
     "output_type": "execute_result"
    }
   ],
   "source": [
    "predict(X_train)"
   ]
  },
  {
   "cell_type": "code",
   "execution_count": 14,
   "id": "adc2b9d8",
   "metadata": {},
   "outputs": [
    {
     "data": {
      "text/html": [
       "<div>\n",
       "<style scoped>\n",
       "    .dataframe tbody tr th:only-of-type {\n",
       "        vertical-align: middle;\n",
       "    }\n",
       "\n",
       "    .dataframe tbody tr th {\n",
       "        vertical-align: top;\n",
       "    }\n",
       "\n",
       "    .dataframe thead th {\n",
       "        text-align: right;\n",
       "    }\n",
       "</style>\n",
       "<table border=\"1\" class=\"dataframe\">\n",
       "  <thead>\n",
       "    <tr style=\"text-align: right;\">\n",
       "      <th></th>\n",
       "      <th>cgpa</th>\n",
       "    </tr>\n",
       "  </thead>\n",
       "  <tbody>\n",
       "    <tr>\n",
       "      <th>137</th>\n",
       "      <td>7.14</td>\n",
       "    </tr>\n",
       "    <tr>\n",
       "      <th>163</th>\n",
       "      <td>8.93</td>\n",
       "    </tr>\n",
       "    <tr>\n",
       "      <th>111</th>\n",
       "      <td>5.42</td>\n",
       "    </tr>\n",
       "    <tr>\n",
       "      <th>123</th>\n",
       "      <td>5.10</td>\n",
       "    </tr>\n",
       "    <tr>\n",
       "      <th>109</th>\n",
       "      <td>7.77</td>\n",
       "    </tr>\n",
       "    <tr>\n",
       "      <th>...</th>\n",
       "      <td>...</td>\n",
       "    </tr>\n",
       "    <tr>\n",
       "      <th>43</th>\n",
       "      <td>7.66</td>\n",
       "    </tr>\n",
       "    <tr>\n",
       "      <th>22</th>\n",
       "      <td>6.14</td>\n",
       "    </tr>\n",
       "    <tr>\n",
       "      <th>72</th>\n",
       "      <td>7.78</td>\n",
       "    </tr>\n",
       "    <tr>\n",
       "      <th>15</th>\n",
       "      <td>7.25</td>\n",
       "    </tr>\n",
       "    <tr>\n",
       "      <th>168</th>\n",
       "      <td>8.65</td>\n",
       "    </tr>\n",
       "  </tbody>\n",
       "</table>\n",
       "<p>160 rows × 1 columns</p>\n",
       "</div>"
      ],
      "text/plain": [
       "     cgpa\n",
       "137  7.14\n",
       "163  8.93\n",
       "111  5.42\n",
       "123  5.10\n",
       "109  7.77\n",
       "..    ...\n",
       "43   7.66\n",
       "22   6.14\n",
       "72   7.78\n",
       "15   7.25\n",
       "168  8.65\n",
       "\n",
       "[160 rows x 1 columns]"
      ]
     },
     "execution_count": 14,
     "metadata": {},
     "output_type": "execute_result"
    }
   ],
   "source": [
    "X_train"
   ]
  },
  {
   "cell_type": "code",
   "execution_count": 15,
   "id": "cf65d96e",
   "metadata": {},
   "outputs": [
    {
     "data": {
      "image/png": "[encoded data removed]",
      "text/plain": [
       "<Figure size 640x480 with 1 Axes>"
      ]
     },
     "metadata": {},
     "output_type": "display_data"
    }
   ],
   "source": [
    "plt.scatter(df[\"cgpa\"],df[\"package\"], color = \"#6922ba\", label=\"Actual\")\n",
    "plt.xlabel(\"CGPA\")\n",
    "plt.ylabel(\"Package(in LPA)\")#LPA means Lac Per Annum\n",
    "plt.plot(X_train,predict(X_train), color= \"#024f2e\" )\n",
    "plt.axvline(7, color = \"#80fa3e\")\n",
    "plt.axhline(3, color = \"#80fa3e\")\n",
    "\n",
    "plt.show()"
   ]
  },
  {
   "cell_type": "code",
   "execution_count": null,
   "id": "3c5de997",
   "metadata": {},
   "outputs": [],
   "source": []
  }
 ],
 "metadata": {
  "kernelspec": {
   "display_name": "Python 3 (ipykernel)",
   "language": "python",
   "name": "python3"
  },
  "language_info": {
   "codemirror_mode": {
    "name": "ipython",
    "version": 3
   },
   "file_extension": ".py",
   "mimetype": "text/x-python",
   "name": "python",
   "nbconvert_exporter": "python",
   "pygments_lexer": "ipython3",
   "version": "3.10.9"
  }
 },
 "nbformat": 4,
 "nbformat_minor": 5
}
